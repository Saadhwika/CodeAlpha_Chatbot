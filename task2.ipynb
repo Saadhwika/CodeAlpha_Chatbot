{
 "cells": [
  {
   "cell_type": "code",
   "execution_count": 1,
   "id": "ef6ce056-2cfa-48f6-8d4d-6b9e3a2963c9",
   "metadata": {},
   "outputs": [
    {
     "name": "stdout",
     "output_type": "stream",
     "text": [
      "Chatbot: Hi! I'm a simple chatbot. Type 'bye' to exit.\n"
     ]
    },
    {
     "name": "stdin",
     "output_type": "stream",
     "text": [
      "You:  hello\n"
     ]
    },
    {
     "name": "stdout",
     "output_type": "stream",
     "text": [
      "Chatbot: Hi!\n"
     ]
    },
    {
     "name": "stdin",
     "output_type": "stream",
     "text": [
      "You:  how are you\n"
     ]
    },
    {
     "name": "stdout",
     "output_type": "stream",
     "text": [
      "Chatbot: I'm fine, thanks!\n"
     ]
    },
    {
     "name": "stdin",
     "output_type": "stream",
     "text": [
      "You:  bye\n"
     ]
    },
    {
     "name": "stdout",
     "output_type": "stream",
     "text": [
      "Chatbot: Goodbye!\n"
     ]
    }
   ],
   "source": [
    "def simple_chatbot():\n",
    "    print(\"Chatbot: Hi! I'm a simple chatbot. Type 'bye' to exit.\")\n",
    "    \n",
    "    while True:  # Keeps the chatbot running until the user says 'bye'\n",
    "        user_input = input(\"You: \").lower().strip()  # Get user input and format it\n",
    "        \n",
    "        if user_input == 'hello':\n",
    "            print(\"Chatbot: Hi!\")\n",
    "        elif user_input == 'how are you':\n",
    "            print(\"Chatbot: I'm fine, thanks!\")\n",
    "        elif user_input == 'bye':\n",
    "            print(\"Chatbot: Goodbye!\")\n",
    "            break  # Exit the loop (end the chat)\n",
    "        else:\n",
    "            print(\"Chatbot: I didn't understand that. Try 'hello', 'how are you', or 'bye'.\")\n",
    "\n",
    "# Run the chatbot\n",
    "simple_chatbot()"
   ]
  },
  {
   "cell_type": "code",
   "execution_count": null,
   "id": "d2ba60bf-4b4a-4262-864d-279334e8ddcf",
   "metadata": {},
   "outputs": [],
   "source": []
  }
 ],
 "metadata": {
  "kernelspec": {
   "display_name": "Python 3 (ipykernel)",
   "language": "python",
   "name": "python3"
  },
  "language_info": {
   "codemirror_mode": {
    "name": "ipython",
    "version": 3
   },
   "file_extension": ".py",
   "mimetype": "text/x-python",
   "name": "python",
   "nbconvert_exporter": "python",
   "pygments_lexer": "ipython3",
   "version": "3.12.7"
  }
 },
 "nbformat": 4,
 "nbformat_minor": 5
}
